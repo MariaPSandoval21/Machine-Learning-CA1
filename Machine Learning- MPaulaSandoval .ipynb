{
 "cells": [
  {
   "cell_type": "markdown",
   "id": "bf6305bf",
   "metadata": {},
   "source": [
    "# Housing Prediction"
   ]
  },
  {
   "cell_type": "markdown",
   "id": "a5dfaafa",
   "metadata": {},
   "source": [
    "#### The project focuses on analyzing the most relevant features to carry out house price prediction using Machine Learning. Predicting house prices is valuable not only for the investment decision-making process but also for sellers, buyers, insurers and even the government in formulating housing policies. \n",
    "\n",
    "#### Given the goal of this project, the target variable is quantitative, and since there is continuity in the outcome (target variable: price and is continuous), this problem is undoubtedly a regression problem. In other words, we aim to predict a continuous value (the price) based on the provided input features, considering the infinite number of possible price values. "
   ]
  },
  {
   "cell_type": "code",
   "execution_count": 1,
   "id": "86cecc52",
   "metadata": {},
   "outputs": [],
   "source": [
    "import pandas as pd\n",
    "from matplotlib import pyplot as plt\n",
    "import seaborn as sns\n",
    "import numpy as np\n",
    "import warnings\n",
    "#from sklearn.linear_model import LinearRegression \n",
    "from sklearn.ensemble import RandomForestRegressor\n",
    "from sklearn.svm import SVR\n",
    "from sklearn import metrics\n",
    "from sklearn.feature_selection import SelectKBest, f_regression\n",
    "warnings.filterwarnings('ignore')"
   ]
  },
  {
   "cell_type": "code",
   "execution_count": 2,
   "id": "38021c61",
   "metadata": {},
   "outputs": [],
   "source": [
    "df = pd.read_csv('Housing.csv') "
   ]
  },
  {
   "cell_type": "markdown",
   "id": "be665c4c",
   "metadata": {},
   "source": [
    "## Characterization of the data "
   ]
  },
  {
   "cell_type": "markdown",
   "id": "86b5c340",
   "metadata": {},
   "source": [
    "#### * Let's check the dataset."
   ]
  },
  {
   "cell_type": "code",
   "execution_count": 3,
   "id": "ad2b1107",
   "metadata": {},
   "outputs": [
    {
     "data": {
      "text/html": [
       "<div>\n",
       "<style scoped>\n",
       "    .dataframe tbody tr th:only-of-type {\n",
       "        vertical-align: middle;\n",
       "    }\n",
       "\n",
       "    .dataframe tbody tr th {\n",
       "        vertical-align: top;\n",
       "    }\n",
       "\n",
       "    .dataframe thead th {\n",
       "        text-align: right;\n",
       "    }\n",
       "</style>\n",
       "<table border=\"1\" class=\"dataframe\">\n",
       "  <thead>\n",
       "    <tr style=\"text-align: right;\">\n",
       "      <th></th>\n",
       "      <th>price</th>\n",
       "      <th>area</th>\n",
       "      <th>bedrooms</th>\n",
       "      <th>bathrooms</th>\n",
       "      <th>stories</th>\n",
       "      <th>mainroad</th>\n",
       "      <th>guestroom</th>\n",
       "      <th>basement</th>\n",
       "      <th>hotwaterheating</th>\n",
       "      <th>airconditioning</th>\n",
       "      <th>parking</th>\n",
       "      <th>prefarea</th>\n",
       "      <th>furnishingstatus</th>\n",
       "    </tr>\n",
       "  </thead>\n",
       "  <tbody>\n",
       "    <tr>\n",
       "      <th>0</th>\n",
       "      <td>13300000</td>\n",
       "      <td>7420</td>\n",
       "      <td>4</td>\n",
       "      <td>2</td>\n",
       "      <td>3</td>\n",
       "      <td>yes</td>\n",
       "      <td>no</td>\n",
       "      <td>no</td>\n",
       "      <td>no</td>\n",
       "      <td>yes</td>\n",
       "      <td>2</td>\n",
       "      <td>yes</td>\n",
       "      <td>furnished</td>\n",
       "    </tr>\n",
       "    <tr>\n",
       "      <th>1</th>\n",
       "      <td>12250000</td>\n",
       "      <td>8960</td>\n",
       "      <td>4</td>\n",
       "      <td>4</td>\n",
       "      <td>4</td>\n",
       "      <td>yes</td>\n",
       "      <td>no</td>\n",
       "      <td>no</td>\n",
       "      <td>no</td>\n",
       "      <td>yes</td>\n",
       "      <td>3</td>\n",
       "      <td>no</td>\n",
       "      <td>furnished</td>\n",
       "    </tr>\n",
       "    <tr>\n",
       "      <th>2</th>\n",
       "      <td>12250000</td>\n",
       "      <td>9960</td>\n",
       "      <td>3</td>\n",
       "      <td>2</td>\n",
       "      <td>2</td>\n",
       "      <td>yes</td>\n",
       "      <td>no</td>\n",
       "      <td>yes</td>\n",
       "      <td>no</td>\n",
       "      <td>no</td>\n",
       "      <td>2</td>\n",
       "      <td>yes</td>\n",
       "      <td>semi-furnished</td>\n",
       "    </tr>\n",
       "    <tr>\n",
       "      <th>3</th>\n",
       "      <td>12215000</td>\n",
       "      <td>7500</td>\n",
       "      <td>4</td>\n",
       "      <td>2</td>\n",
       "      <td>2</td>\n",
       "      <td>yes</td>\n",
       "      <td>no</td>\n",
       "      <td>yes</td>\n",
       "      <td>no</td>\n",
       "      <td>yes</td>\n",
       "      <td>3</td>\n",
       "      <td>yes</td>\n",
       "      <td>furnished</td>\n",
       "    </tr>\n",
       "    <tr>\n",
       "      <th>4</th>\n",
       "      <td>11410000</td>\n",
       "      <td>7420</td>\n",
       "      <td>4</td>\n",
       "      <td>1</td>\n",
       "      <td>2</td>\n",
       "      <td>yes</td>\n",
       "      <td>yes</td>\n",
       "      <td>yes</td>\n",
       "      <td>no</td>\n",
       "      <td>yes</td>\n",
       "      <td>2</td>\n",
       "      <td>no</td>\n",
       "      <td>furnished</td>\n",
       "    </tr>\n",
       "    <tr>\n",
       "      <th>5</th>\n",
       "      <td>10850000</td>\n",
       "      <td>7500</td>\n",
       "      <td>3</td>\n",
       "      <td>3</td>\n",
       "      <td>1</td>\n",
       "      <td>yes</td>\n",
       "      <td>no</td>\n",
       "      <td>yes</td>\n",
       "      <td>no</td>\n",
       "      <td>yes</td>\n",
       "      <td>2</td>\n",
       "      <td>yes</td>\n",
       "      <td>semi-furnished</td>\n",
       "    </tr>\n",
       "    <tr>\n",
       "      <th>6</th>\n",
       "      <td>10150000</td>\n",
       "      <td>8580</td>\n",
       "      <td>4</td>\n",
       "      <td>3</td>\n",
       "      <td>4</td>\n",
       "      <td>yes</td>\n",
       "      <td>no</td>\n",
       "      <td>no</td>\n",
       "      <td>no</td>\n",
       "      <td>yes</td>\n",
       "      <td>2</td>\n",
       "      <td>yes</td>\n",
       "      <td>semi-furnished</td>\n",
       "    </tr>\n",
       "    <tr>\n",
       "      <th>7</th>\n",
       "      <td>10150000</td>\n",
       "      <td>16200</td>\n",
       "      <td>5</td>\n",
       "      <td>3</td>\n",
       "      <td>2</td>\n",
       "      <td>yes</td>\n",
       "      <td>no</td>\n",
       "      <td>no</td>\n",
       "      <td>no</td>\n",
       "      <td>no</td>\n",
       "      <td>0</td>\n",
       "      <td>no</td>\n",
       "      <td>unfurnished</td>\n",
       "    </tr>\n",
       "    <tr>\n",
       "      <th>8</th>\n",
       "      <td>9870000</td>\n",
       "      <td>8100</td>\n",
       "      <td>4</td>\n",
       "      <td>1</td>\n",
       "      <td>2</td>\n",
       "      <td>yes</td>\n",
       "      <td>yes</td>\n",
       "      <td>yes</td>\n",
       "      <td>no</td>\n",
       "      <td>yes</td>\n",
       "      <td>2</td>\n",
       "      <td>yes</td>\n",
       "      <td>furnished</td>\n",
       "    </tr>\n",
       "    <tr>\n",
       "      <th>9</th>\n",
       "      <td>9800000</td>\n",
       "      <td>5750</td>\n",
       "      <td>3</td>\n",
       "      <td>2</td>\n",
       "      <td>4</td>\n",
       "      <td>yes</td>\n",
       "      <td>yes</td>\n",
       "      <td>no</td>\n",
       "      <td>no</td>\n",
       "      <td>yes</td>\n",
       "      <td>1</td>\n",
       "      <td>yes</td>\n",
       "      <td>unfurnished</td>\n",
       "    </tr>\n",
       "  </tbody>\n",
       "</table>\n",
       "</div>"
      ],
      "text/plain": [
       "      price   area  bedrooms  bathrooms  stories mainroad guestroom basement  \\\n",
       "0  13300000   7420         4          2        3      yes        no       no   \n",
       "1  12250000   8960         4          4        4      yes        no       no   \n",
       "2  12250000   9960         3          2        2      yes        no      yes   \n",
       "3  12215000   7500         4          2        2      yes        no      yes   \n",
       "4  11410000   7420         4          1        2      yes       yes      yes   \n",
       "5  10850000   7500         3          3        1      yes        no      yes   \n",
       "6  10150000   8580         4          3        4      yes        no       no   \n",
       "7  10150000  16200         5          3        2      yes        no       no   \n",
       "8   9870000   8100         4          1        2      yes       yes      yes   \n",
       "9   9800000   5750         3          2        4      yes       yes       no   \n",
       "\n",
       "  hotwaterheating airconditioning  parking prefarea furnishingstatus  \n",
       "0              no             yes        2      yes        furnished  \n",
       "1              no             yes        3       no        furnished  \n",
       "2              no              no        2      yes   semi-furnished  \n",
       "3              no             yes        3      yes        furnished  \n",
       "4              no             yes        2       no        furnished  \n",
       "5              no             yes        2      yes   semi-furnished  \n",
       "6              no             yes        2      yes   semi-furnished  \n",
       "7              no              no        0       no      unfurnished  \n",
       "8              no             yes        2      yes        furnished  \n",
       "9              no             yes        1      yes      unfurnished  "
      ]
     },
     "execution_count": 3,
     "metadata": {},
     "output_type": "execute_result"
    }
   ],
   "source": [
    "df.head(10)"
   ]
  },
  {
   "cell_type": "markdown",
   "id": "7a28c620",
   "metadata": {},
   "source": [
    "#### * There are categorical and numerical datapoints. "
   ]
  },
  {
   "cell_type": "code",
   "execution_count": 4,
   "id": "9183531c",
   "metadata": {},
   "outputs": [
    {
     "name": "stdout",
     "output_type": "stream",
     "text": [
      "<class 'pandas.core.frame.DataFrame'>\n",
      "RangeIndex: 545 entries, 0 to 544\n",
      "Data columns (total 13 columns):\n",
      " #   Column            Non-Null Count  Dtype \n",
      "---  ------            --------------  ----- \n",
      " 0   price             545 non-null    int64 \n",
      " 1   area              545 non-null    int64 \n",
      " 2   bedrooms          545 non-null    int64 \n",
      " 3   bathrooms         545 non-null    int64 \n",
      " 4   stories           545 non-null    int64 \n",
      " 5   mainroad          545 non-null    object\n",
      " 6   guestroom         545 non-null    object\n",
      " 7   basement          545 non-null    object\n",
      " 8   hotwaterheating   545 non-null    object\n",
      " 9   airconditioning   545 non-null    object\n",
      " 10  parking           545 non-null    int64 \n",
      " 11  prefarea          545 non-null    object\n",
      " 12  furnishingstatus  545 non-null    object\n",
      "dtypes: int64(6), object(7)\n",
      "memory usage: 55.5+ KB\n"
     ]
    }
   ],
   "source": [
    "df.info()"
   ]
  },
  {
   "cell_type": "code",
   "execution_count": 5,
   "id": "df116fa8",
   "metadata": {},
   "outputs": [
    {
     "data": {
      "text/plain": [
       "(545, 13)"
      ]
     },
     "execution_count": 5,
     "metadata": {},
     "output_type": "execute_result"
    }
   ],
   "source": [
    "df.shape"
   ]
  },
  {
   "cell_type": "markdown",
   "id": "476f1996",
   "metadata": {},
   "source": [
    "#### * The dataset has 545 observations and 13 variables. "
   ]
  },
  {
   "cell_type": "code",
   "execution_count": 6,
   "id": "bfb703d9",
   "metadata": {
    "scrolled": true
   },
   "outputs": [
    {
     "data": {
      "text/html": [
       "<div>\n",
       "<style scoped>\n",
       "    .dataframe tbody tr th:only-of-type {\n",
       "        vertical-align: middle;\n",
       "    }\n",
       "\n",
       "    .dataframe tbody tr th {\n",
       "        vertical-align: top;\n",
       "    }\n",
       "\n",
       "    .dataframe thead th {\n",
       "        text-align: right;\n",
       "    }\n",
       "</style>\n",
       "<table border=\"1\" class=\"dataframe\">\n",
       "  <thead>\n",
       "    <tr style=\"text-align: right;\">\n",
       "      <th></th>\n",
       "      <th>price</th>\n",
       "      <th>area</th>\n",
       "      <th>bedrooms</th>\n",
       "      <th>bathrooms</th>\n",
       "      <th>stories</th>\n",
       "      <th>mainroad</th>\n",
       "      <th>guestroom</th>\n",
       "      <th>basement</th>\n",
       "      <th>hotwaterheating</th>\n",
       "      <th>airconditioning</th>\n",
       "      <th>parking</th>\n",
       "      <th>prefarea</th>\n",
       "      <th>furnishingstatus</th>\n",
       "    </tr>\n",
       "  </thead>\n",
       "  <tbody>\n",
       "    <tr>\n",
       "      <th>0</th>\n",
       "      <td>13300000</td>\n",
       "      <td>7420</td>\n",
       "      <td>4</td>\n",
       "      <td>2</td>\n",
       "      <td>3</td>\n",
       "      <td>yes</td>\n",
       "      <td>no</td>\n",
       "      <td>no</td>\n",
       "      <td>no</td>\n",
       "      <td>yes</td>\n",
       "      <td>2</td>\n",
       "      <td>yes</td>\n",
       "      <td>furnished</td>\n",
       "    </tr>\n",
       "    <tr>\n",
       "      <th>1</th>\n",
       "      <td>12250000</td>\n",
       "      <td>8960</td>\n",
       "      <td>4</td>\n",
       "      <td>4</td>\n",
       "      <td>4</td>\n",
       "      <td>yes</td>\n",
       "      <td>no</td>\n",
       "      <td>no</td>\n",
       "      <td>no</td>\n",
       "      <td>yes</td>\n",
       "      <td>3</td>\n",
       "      <td>no</td>\n",
       "      <td>furnished</td>\n",
       "    </tr>\n",
       "    <tr>\n",
       "      <th>2</th>\n",
       "      <td>12250000</td>\n",
       "      <td>9960</td>\n",
       "      <td>3</td>\n",
       "      <td>2</td>\n",
       "      <td>2</td>\n",
       "      <td>yes</td>\n",
       "      <td>no</td>\n",
       "      <td>yes</td>\n",
       "      <td>no</td>\n",
       "      <td>no</td>\n",
       "      <td>2</td>\n",
       "      <td>yes</td>\n",
       "      <td>semi-furnished</td>\n",
       "    </tr>\n",
       "    <tr>\n",
       "      <th>3</th>\n",
       "      <td>12215000</td>\n",
       "      <td>7500</td>\n",
       "      <td>4</td>\n",
       "      <td>2</td>\n",
       "      <td>2</td>\n",
       "      <td>yes</td>\n",
       "      <td>no</td>\n",
       "      <td>yes</td>\n",
       "      <td>no</td>\n",
       "      <td>yes</td>\n",
       "      <td>3</td>\n",
       "      <td>yes</td>\n",
       "      <td>furnished</td>\n",
       "    </tr>\n",
       "    <tr>\n",
       "      <th>4</th>\n",
       "      <td>11410000</td>\n",
       "      <td>7420</td>\n",
       "      <td>4</td>\n",
       "      <td>1</td>\n",
       "      <td>2</td>\n",
       "      <td>yes</td>\n",
       "      <td>yes</td>\n",
       "      <td>yes</td>\n",
       "      <td>no</td>\n",
       "      <td>yes</td>\n",
       "      <td>2</td>\n",
       "      <td>no</td>\n",
       "      <td>furnished</td>\n",
       "    </tr>\n",
       "    <tr>\n",
       "      <th>...</th>\n",
       "      <td>...</td>\n",
       "      <td>...</td>\n",
       "      <td>...</td>\n",
       "      <td>...</td>\n",
       "      <td>...</td>\n",
       "      <td>...</td>\n",
       "      <td>...</td>\n",
       "      <td>...</td>\n",
       "      <td>...</td>\n",
       "      <td>...</td>\n",
       "      <td>...</td>\n",
       "      <td>...</td>\n",
       "      <td>...</td>\n",
       "    </tr>\n",
       "    <tr>\n",
       "      <th>540</th>\n",
       "      <td>1820000</td>\n",
       "      <td>3000</td>\n",
       "      <td>2</td>\n",
       "      <td>1</td>\n",
       "      <td>1</td>\n",
       "      <td>yes</td>\n",
       "      <td>no</td>\n",
       "      <td>yes</td>\n",
       "      <td>no</td>\n",
       "      <td>no</td>\n",
       "      <td>2</td>\n",
       "      <td>no</td>\n",
       "      <td>unfurnished</td>\n",
       "    </tr>\n",
       "    <tr>\n",
       "      <th>541</th>\n",
       "      <td>1767150</td>\n",
       "      <td>2400</td>\n",
       "      <td>3</td>\n",
       "      <td>1</td>\n",
       "      <td>1</td>\n",
       "      <td>no</td>\n",
       "      <td>no</td>\n",
       "      <td>no</td>\n",
       "      <td>no</td>\n",
       "      <td>no</td>\n",
       "      <td>0</td>\n",
       "      <td>no</td>\n",
       "      <td>semi-furnished</td>\n",
       "    </tr>\n",
       "    <tr>\n",
       "      <th>542</th>\n",
       "      <td>1750000</td>\n",
       "      <td>3620</td>\n",
       "      <td>2</td>\n",
       "      <td>1</td>\n",
       "      <td>1</td>\n",
       "      <td>yes</td>\n",
       "      <td>no</td>\n",
       "      <td>no</td>\n",
       "      <td>no</td>\n",
       "      <td>no</td>\n",
       "      <td>0</td>\n",
       "      <td>no</td>\n",
       "      <td>unfurnished</td>\n",
       "    </tr>\n",
       "    <tr>\n",
       "      <th>543</th>\n",
       "      <td>1750000</td>\n",
       "      <td>2910</td>\n",
       "      <td>3</td>\n",
       "      <td>1</td>\n",
       "      <td>1</td>\n",
       "      <td>no</td>\n",
       "      <td>no</td>\n",
       "      <td>no</td>\n",
       "      <td>no</td>\n",
       "      <td>no</td>\n",
       "      <td>0</td>\n",
       "      <td>no</td>\n",
       "      <td>furnished</td>\n",
       "    </tr>\n",
       "    <tr>\n",
       "      <th>544</th>\n",
       "      <td>1750000</td>\n",
       "      <td>3850</td>\n",
       "      <td>3</td>\n",
       "      <td>1</td>\n",
       "      <td>2</td>\n",
       "      <td>yes</td>\n",
       "      <td>no</td>\n",
       "      <td>no</td>\n",
       "      <td>no</td>\n",
       "      <td>no</td>\n",
       "      <td>0</td>\n",
       "      <td>no</td>\n",
       "      <td>unfurnished</td>\n",
       "    </tr>\n",
       "  </tbody>\n",
       "</table>\n",
       "<p>545 rows × 13 columns</p>\n",
       "</div>"
      ],
      "text/plain": [
       "        price  area  bedrooms  bathrooms  stories mainroad guestroom basement  \\\n",
       "0    13300000  7420         4          2        3      yes        no       no   \n",
       "1    12250000  8960         4          4        4      yes        no       no   \n",
       "2    12250000  9960         3          2        2      yes        no      yes   \n",
       "3    12215000  7500         4          2        2      yes        no      yes   \n",
       "4    11410000  7420         4          1        2      yes       yes      yes   \n",
       "..        ...   ...       ...        ...      ...      ...       ...      ...   \n",
       "540   1820000  3000         2          1        1      yes        no      yes   \n",
       "541   1767150  2400         3          1        1       no        no       no   \n",
       "542   1750000  3620         2          1        1      yes        no       no   \n",
       "543   1750000  2910         3          1        1       no        no       no   \n",
       "544   1750000  3850         3          1        2      yes        no       no   \n",
       "\n",
       "    hotwaterheating airconditioning  parking prefarea furnishingstatus  \n",
       "0                no             yes        2      yes        furnished  \n",
       "1                no             yes        3       no        furnished  \n",
       "2                no              no        2      yes   semi-furnished  \n",
       "3                no             yes        3      yes        furnished  \n",
       "4                no             yes        2       no        furnished  \n",
       "..              ...             ...      ...      ...              ...  \n",
       "540              no              no        2       no      unfurnished  \n",
       "541              no              no        0       no   semi-furnished  \n",
       "542              no              no        0       no      unfurnished  \n",
       "543              no              no        0       no        furnished  \n",
       "544              no              no        0       no      unfurnished  \n",
       "\n",
       "[545 rows x 13 columns]"
      ]
     },
     "execution_count": 6,
     "metadata": {},
     "output_type": "execute_result"
    }
   ],
   "source": [
    "df.drop_duplicates()"
   ]
  },
  {
   "cell_type": "markdown",
   "id": "db3f3846",
   "metadata": {},
   "source": [
    "#### * There are not duplicated cells."
   ]
  },
  {
   "cell_type": "code",
   "execution_count": 7,
   "id": "2713fe1a",
   "metadata": {},
   "outputs": [
    {
     "data": {
      "text/plain": [
       "price               0\n",
       "area                0\n",
       "bedrooms            0\n",
       "bathrooms           0\n",
       "stories             0\n",
       "mainroad            0\n",
       "guestroom           0\n",
       "basement            0\n",
       "hotwaterheating     0\n",
       "airconditioning     0\n",
       "parking             0\n",
       "prefarea            0\n",
       "furnishingstatus    0\n",
       "dtype: int64"
      ]
     },
     "execution_count": 7,
     "metadata": {},
     "output_type": "execute_result"
    }
   ],
   "source": [
    "df.isnull().sum()"
   ]
  },
  {
   "cell_type": "markdown",
   "id": "b5e95767",
   "metadata": {},
   "source": [
    "#### * There are not missing values. "
   ]
  },
  {
   "cell_type": "code",
   "execution_count": 8,
   "id": "b82a74e8",
   "metadata": {},
   "outputs": [
    {
     "data": {
      "text/plain": [
       "price                int64\n",
       "area                 int64\n",
       "bedrooms             int64\n",
       "bathrooms            int64\n",
       "stories              int64\n",
       "mainroad            object\n",
       "guestroom           object\n",
       "basement            object\n",
       "hotwaterheating     object\n",
       "airconditioning     object\n",
       "parking              int64\n",
       "prefarea            object\n",
       "furnishingstatus    object\n",
       "dtype: object"
      ]
     },
     "execution_count": 8,
     "metadata": {},
     "output_type": "execute_result"
    }
   ],
   "source": [
    "df.dtypes"
   ]
  },
  {
   "cell_type": "markdown",
   "id": "21c9ca8d",
   "metadata": {},
   "source": [
    "#### * There are cells represented as strings, let's convert them to numerical data for the machine learning models. Ensuring that the features are in a suitable format is crucial for effective model training. "
   ]
  },
  {
   "cell_type": "code",
   "execution_count": 9,
   "id": "42a9e052",
   "metadata": {},
   "outputs": [],
   "source": [
    "df[\"mainroad\"].replace ({'no':0, 'yes':1}, inplace = True)\n",
    "df[\"guestroom\"].replace ({'no':0, 'yes':1}, inplace = True)\n",
    "df[\"basement\"].replace ({'no':0, 'yes':1}, inplace = True)\n",
    "df[\"hotwaterheating\"].replace ({'no':0, 'yes':1}, inplace = True)\n",
    "df[\"airconditioning\"].replace ({'no':0, 'yes':1}, inplace = True)\n",
    "df[\"prefarea\"].replace ({'no':0, 'yes':1}, inplace = True)\n",
    "df[\"furnishingstatus\"].replace ({'furnished':0, 'semi-furnished':1, 'unfurnished' :2}, inplace = True)"
   ]
  },
  {
   "cell_type": "code",
   "execution_count": 10,
   "id": "d237c322",
   "metadata": {},
   "outputs": [
    {
     "data": {
      "text/html": [
       "<div>\n",
       "<style scoped>\n",
       "    .dataframe tbody tr th:only-of-type {\n",
       "        vertical-align: middle;\n",
       "    }\n",
       "\n",
       "    .dataframe tbody tr th {\n",
       "        vertical-align: top;\n",
       "    }\n",
       "\n",
       "    .dataframe thead th {\n",
       "        text-align: right;\n",
       "    }\n",
       "</style>\n",
       "<table border=\"1\" class=\"dataframe\">\n",
       "  <thead>\n",
       "    <tr style=\"text-align: right;\">\n",
       "      <th></th>\n",
       "      <th>price</th>\n",
       "      <th>area</th>\n",
       "      <th>bedrooms</th>\n",
       "      <th>bathrooms</th>\n",
       "      <th>stories</th>\n",
       "      <th>mainroad</th>\n",
       "      <th>guestroom</th>\n",
       "      <th>basement</th>\n",
       "      <th>hotwaterheating</th>\n",
       "      <th>airconditioning</th>\n",
       "      <th>parking</th>\n",
       "      <th>prefarea</th>\n",
       "      <th>furnishingstatus</th>\n",
       "    </tr>\n",
       "  </thead>\n",
       "  <tbody>\n",
       "    <tr>\n",
       "      <th>0</th>\n",
       "      <td>13300000</td>\n",
       "      <td>7420</td>\n",
       "      <td>4</td>\n",
       "      <td>2</td>\n",
       "      <td>3</td>\n",
       "      <td>1</td>\n",
       "      <td>0</td>\n",
       "      <td>0</td>\n",
       "      <td>0</td>\n",
       "      <td>1</td>\n",
       "      <td>2</td>\n",
       "      <td>1</td>\n",
       "      <td>0</td>\n",
       "    </tr>\n",
       "    <tr>\n",
       "      <th>1</th>\n",
       "      <td>12250000</td>\n",
       "      <td>8960</td>\n",
       "      <td>4</td>\n",
       "      <td>4</td>\n",
       "      <td>4</td>\n",
       "      <td>1</td>\n",
       "      <td>0</td>\n",
       "      <td>0</td>\n",
       "      <td>0</td>\n",
       "      <td>1</td>\n",
       "      <td>3</td>\n",
       "      <td>0</td>\n",
       "      <td>0</td>\n",
       "    </tr>\n",
       "    <tr>\n",
       "      <th>2</th>\n",
       "      <td>12250000</td>\n",
       "      <td>9960</td>\n",
       "      <td>3</td>\n",
       "      <td>2</td>\n",
       "      <td>2</td>\n",
       "      <td>1</td>\n",
       "      <td>0</td>\n",
       "      <td>1</td>\n",
       "      <td>0</td>\n",
       "      <td>0</td>\n",
       "      <td>2</td>\n",
       "      <td>1</td>\n",
       "      <td>1</td>\n",
       "    </tr>\n",
       "    <tr>\n",
       "      <th>3</th>\n",
       "      <td>12215000</td>\n",
       "      <td>7500</td>\n",
       "      <td>4</td>\n",
       "      <td>2</td>\n",
       "      <td>2</td>\n",
       "      <td>1</td>\n",
       "      <td>0</td>\n",
       "      <td>1</td>\n",
       "      <td>0</td>\n",
       "      <td>1</td>\n",
       "      <td>3</td>\n",
       "      <td>1</td>\n",
       "      <td>0</td>\n",
       "    </tr>\n",
       "    <tr>\n",
       "      <th>4</th>\n",
       "      <td>11410000</td>\n",
       "      <td>7420</td>\n",
       "      <td>4</td>\n",
       "      <td>1</td>\n",
       "      <td>2</td>\n",
       "      <td>1</td>\n",
       "      <td>1</td>\n",
       "      <td>1</td>\n",
       "      <td>0</td>\n",
       "      <td>1</td>\n",
       "      <td>2</td>\n",
       "      <td>0</td>\n",
       "      <td>0</td>\n",
       "    </tr>\n",
       "    <tr>\n",
       "      <th>5</th>\n",
       "      <td>10850000</td>\n",
       "      <td>7500</td>\n",
       "      <td>3</td>\n",
       "      <td>3</td>\n",
       "      <td>1</td>\n",
       "      <td>1</td>\n",
       "      <td>0</td>\n",
       "      <td>1</td>\n",
       "      <td>0</td>\n",
       "      <td>1</td>\n",
       "      <td>2</td>\n",
       "      <td>1</td>\n",
       "      <td>1</td>\n",
       "    </tr>\n",
       "    <tr>\n",
       "      <th>6</th>\n",
       "      <td>10150000</td>\n",
       "      <td>8580</td>\n",
       "      <td>4</td>\n",
       "      <td>3</td>\n",
       "      <td>4</td>\n",
       "      <td>1</td>\n",
       "      <td>0</td>\n",
       "      <td>0</td>\n",
       "      <td>0</td>\n",
       "      <td>1</td>\n",
       "      <td>2</td>\n",
       "      <td>1</td>\n",
       "      <td>1</td>\n",
       "    </tr>\n",
       "    <tr>\n",
       "      <th>7</th>\n",
       "      <td>10150000</td>\n",
       "      <td>16200</td>\n",
       "      <td>5</td>\n",
       "      <td>3</td>\n",
       "      <td>2</td>\n",
       "      <td>1</td>\n",
       "      <td>0</td>\n",
       "      <td>0</td>\n",
       "      <td>0</td>\n",
       "      <td>0</td>\n",
       "      <td>0</td>\n",
       "      <td>0</td>\n",
       "      <td>2</td>\n",
       "    </tr>\n",
       "    <tr>\n",
       "      <th>8</th>\n",
       "      <td>9870000</td>\n",
       "      <td>8100</td>\n",
       "      <td>4</td>\n",
       "      <td>1</td>\n",
       "      <td>2</td>\n",
       "      <td>1</td>\n",
       "      <td>1</td>\n",
       "      <td>1</td>\n",
       "      <td>0</td>\n",
       "      <td>1</td>\n",
       "      <td>2</td>\n",
       "      <td>1</td>\n",
       "      <td>0</td>\n",
       "    </tr>\n",
       "    <tr>\n",
       "      <th>9</th>\n",
       "      <td>9800000</td>\n",
       "      <td>5750</td>\n",
       "      <td>3</td>\n",
       "      <td>2</td>\n",
       "      <td>4</td>\n",
       "      <td>1</td>\n",
       "      <td>1</td>\n",
       "      <td>0</td>\n",
       "      <td>0</td>\n",
       "      <td>1</td>\n",
       "      <td>1</td>\n",
       "      <td>1</td>\n",
       "      <td>2</td>\n",
       "    </tr>\n",
       "  </tbody>\n",
       "</table>\n",
       "</div>"
      ],
      "text/plain": [
       "      price   area  bedrooms  bathrooms  stories  mainroad  guestroom  \\\n",
       "0  13300000   7420         4          2        3         1          0   \n",
       "1  12250000   8960         4          4        4         1          0   \n",
       "2  12250000   9960         3          2        2         1          0   \n",
       "3  12215000   7500         4          2        2         1          0   \n",
       "4  11410000   7420         4          1        2         1          1   \n",
       "5  10850000   7500         3          3        1         1          0   \n",
       "6  10150000   8580         4          3        4         1          0   \n",
       "7  10150000  16200         5          3        2         1          0   \n",
       "8   9870000   8100         4          1        2         1          1   \n",
       "9   9800000   5750         3          2        4         1          1   \n",
       "\n",
       "   basement  hotwaterheating  airconditioning  parking  prefarea  \\\n",
       "0         0                0                1        2         1   \n",
       "1         0                0                1        3         0   \n",
       "2         1                0                0        2         1   \n",
       "3         1                0                1        3         1   \n",
       "4         1                0                1        2         0   \n",
       "5         1                0                1        2         1   \n",
       "6         0                0                1        2         1   \n",
       "7         0                0                0        0         0   \n",
       "8         1                0                1        2         1   \n",
       "9         0                0                1        1         1   \n",
       "\n",
       "   furnishingstatus  \n",
       "0                 0  \n",
       "1                 0  \n",
       "2                 1  \n",
       "3                 0  \n",
       "4                 0  \n",
       "5                 1  \n",
       "6                 1  \n",
       "7                 2  \n",
       "8                 0  \n",
       "9                 2  "
      ]
     },
     "execution_count": 10,
     "metadata": {},
     "output_type": "execute_result"
    }
   ],
   "source": [
    "df.head(10)"
   ]
  },
  {
   "cell_type": "code",
   "execution_count": 11,
   "id": "30c7d560",
   "metadata": {},
   "outputs": [
    {
     "data": {
      "text/html": [
       "<div>\n",
       "<style scoped>\n",
       "    .dataframe tbody tr th:only-of-type {\n",
       "        vertical-align: middle;\n",
       "    }\n",
       "\n",
       "    .dataframe tbody tr th {\n",
       "        vertical-align: top;\n",
       "    }\n",
       "\n",
       "    .dataframe thead th {\n",
       "        text-align: right;\n",
       "    }\n",
       "</style>\n",
       "<table border=\"1\" class=\"dataframe\">\n",
       "  <thead>\n",
       "    <tr style=\"text-align: right;\">\n",
       "      <th></th>\n",
       "      <th>price</th>\n",
       "      <th>area</th>\n",
       "      <th>bedrooms</th>\n",
       "      <th>bathrooms</th>\n",
       "      <th>stories</th>\n",
       "      <th>mainroad</th>\n",
       "      <th>guestroom</th>\n",
       "      <th>basement</th>\n",
       "      <th>hotwaterheating</th>\n",
       "      <th>airconditioning</th>\n",
       "      <th>parking</th>\n",
       "      <th>prefarea</th>\n",
       "      <th>furnishingstatus</th>\n",
       "    </tr>\n",
       "  </thead>\n",
       "  <tbody>\n",
       "    <tr>\n",
       "      <th>count</th>\n",
       "      <td>5.450000e+02</td>\n",
       "      <td>545.000000</td>\n",
       "      <td>545.000000</td>\n",
       "      <td>545.000000</td>\n",
       "      <td>545.000000</td>\n",
       "      <td>545.000000</td>\n",
       "      <td>545.000000</td>\n",
       "      <td>545.000000</td>\n",
       "      <td>545.000000</td>\n",
       "      <td>545.000000</td>\n",
       "      <td>545.000000</td>\n",
       "      <td>545.000000</td>\n",
       "      <td>545.000000</td>\n",
       "    </tr>\n",
       "    <tr>\n",
       "      <th>mean</th>\n",
       "      <td>4.766729e+06</td>\n",
       "      <td>5150.541284</td>\n",
       "      <td>2.965138</td>\n",
       "      <td>1.286239</td>\n",
       "      <td>1.805505</td>\n",
       "      <td>0.858716</td>\n",
       "      <td>0.177982</td>\n",
       "      <td>0.350459</td>\n",
       "      <td>0.045872</td>\n",
       "      <td>0.315596</td>\n",
       "      <td>0.693578</td>\n",
       "      <td>0.234862</td>\n",
       "      <td>1.069725</td>\n",
       "    </tr>\n",
       "    <tr>\n",
       "      <th>std</th>\n",
       "      <td>1.870440e+06</td>\n",
       "      <td>2170.141023</td>\n",
       "      <td>0.738064</td>\n",
       "      <td>0.502470</td>\n",
       "      <td>0.867492</td>\n",
       "      <td>0.348635</td>\n",
       "      <td>0.382849</td>\n",
       "      <td>0.477552</td>\n",
       "      <td>0.209399</td>\n",
       "      <td>0.465180</td>\n",
       "      <td>0.861586</td>\n",
       "      <td>0.424302</td>\n",
       "      <td>0.761373</td>\n",
       "    </tr>\n",
       "    <tr>\n",
       "      <th>min</th>\n",
       "      <td>1.750000e+06</td>\n",
       "      <td>1650.000000</td>\n",
       "      <td>1.000000</td>\n",
       "      <td>1.000000</td>\n",
       "      <td>1.000000</td>\n",
       "      <td>0.000000</td>\n",
       "      <td>0.000000</td>\n",
       "      <td>0.000000</td>\n",
       "      <td>0.000000</td>\n",
       "      <td>0.000000</td>\n",
       "      <td>0.000000</td>\n",
       "      <td>0.000000</td>\n",
       "      <td>0.000000</td>\n",
       "    </tr>\n",
       "    <tr>\n",
       "      <th>25%</th>\n",
       "      <td>3.430000e+06</td>\n",
       "      <td>3600.000000</td>\n",
       "      <td>2.000000</td>\n",
       "      <td>1.000000</td>\n",
       "      <td>1.000000</td>\n",
       "      <td>1.000000</td>\n",
       "      <td>0.000000</td>\n",
       "      <td>0.000000</td>\n",
       "      <td>0.000000</td>\n",
       "      <td>0.000000</td>\n",
       "      <td>0.000000</td>\n",
       "      <td>0.000000</td>\n",
       "      <td>0.000000</td>\n",
       "    </tr>\n",
       "    <tr>\n",
       "      <th>50%</th>\n",
       "      <td>4.340000e+06</td>\n",
       "      <td>4600.000000</td>\n",
       "      <td>3.000000</td>\n",
       "      <td>1.000000</td>\n",
       "      <td>2.000000</td>\n",
       "      <td>1.000000</td>\n",
       "      <td>0.000000</td>\n",
       "      <td>0.000000</td>\n",
       "      <td>0.000000</td>\n",
       "      <td>0.000000</td>\n",
       "      <td>0.000000</td>\n",
       "      <td>0.000000</td>\n",
       "      <td>1.000000</td>\n",
       "    </tr>\n",
       "    <tr>\n",
       "      <th>75%</th>\n",
       "      <td>5.740000e+06</td>\n",
       "      <td>6360.000000</td>\n",
       "      <td>3.000000</td>\n",
       "      <td>2.000000</td>\n",
       "      <td>2.000000</td>\n",
       "      <td>1.000000</td>\n",
       "      <td>0.000000</td>\n",
       "      <td>1.000000</td>\n",
       "      <td>0.000000</td>\n",
       "      <td>1.000000</td>\n",
       "      <td>1.000000</td>\n",
       "      <td>0.000000</td>\n",
       "      <td>2.000000</td>\n",
       "    </tr>\n",
       "    <tr>\n",
       "      <th>max</th>\n",
       "      <td>1.330000e+07</td>\n",
       "      <td>16200.000000</td>\n",
       "      <td>6.000000</td>\n",
       "      <td>4.000000</td>\n",
       "      <td>4.000000</td>\n",
       "      <td>1.000000</td>\n",
       "      <td>1.000000</td>\n",
       "      <td>1.000000</td>\n",
       "      <td>1.000000</td>\n",
       "      <td>1.000000</td>\n",
       "      <td>3.000000</td>\n",
       "      <td>1.000000</td>\n",
       "      <td>2.000000</td>\n",
       "    </tr>\n",
       "  </tbody>\n",
       "</table>\n",
       "</div>"
      ],
      "text/plain": [
       "              price          area    bedrooms   bathrooms     stories  \\\n",
       "count  5.450000e+02    545.000000  545.000000  545.000000  545.000000   \n",
       "mean   4.766729e+06   5150.541284    2.965138    1.286239    1.805505   \n",
       "std    1.870440e+06   2170.141023    0.738064    0.502470    0.867492   \n",
       "min    1.750000e+06   1650.000000    1.000000    1.000000    1.000000   \n",
       "25%    3.430000e+06   3600.000000    2.000000    1.000000    1.000000   \n",
       "50%    4.340000e+06   4600.000000    3.000000    1.000000    2.000000   \n",
       "75%    5.740000e+06   6360.000000    3.000000    2.000000    2.000000   \n",
       "max    1.330000e+07  16200.000000    6.000000    4.000000    4.000000   \n",
       "\n",
       "         mainroad   guestroom    basement  hotwaterheating  airconditioning  \\\n",
       "count  545.000000  545.000000  545.000000       545.000000       545.000000   \n",
       "mean     0.858716    0.177982    0.350459         0.045872         0.315596   \n",
       "std      0.348635    0.382849    0.477552         0.209399         0.465180   \n",
       "min      0.000000    0.000000    0.000000         0.000000         0.000000   \n",
       "25%      1.000000    0.000000    0.000000         0.000000         0.000000   \n",
       "50%      1.000000    0.000000    0.000000         0.000000         0.000000   \n",
       "75%      1.000000    0.000000    1.000000         0.000000         1.000000   \n",
       "max      1.000000    1.000000    1.000000         1.000000         1.000000   \n",
       "\n",
       "          parking    prefarea  furnishingstatus  \n",
       "count  545.000000  545.000000        545.000000  \n",
       "mean     0.693578    0.234862          1.069725  \n",
       "std      0.861586    0.424302          0.761373  \n",
       "min      0.000000    0.000000          0.000000  \n",
       "25%      0.000000    0.000000          0.000000  \n",
       "50%      0.000000    0.000000          1.000000  \n",
       "75%      1.000000    0.000000          2.000000  \n",
       "max      3.000000    1.000000          2.000000  "
      ]
     },
     "execution_count": 11,
     "metadata": {},
     "output_type": "execute_result"
    }
   ],
   "source": [
    "df.describe()"
   ]
  },
  {
   "cell_type": "code",
   "execution_count": 12,
   "id": "7a8db90c",
   "metadata": {},
   "outputs": [
    {
     "data": {
      "text/plain": [
       "int64    13\n",
       "Name: count, dtype: int64"
      ]
     },
     "execution_count": 12,
     "metadata": {},
     "output_type": "execute_result"
    }
   ],
   "source": [
    "df.dtypes.value_counts()"
   ]
  },
  {
   "cell_type": "markdown",
   "id": "fa227f54",
   "metadata": {},
   "source": [
    "#### * The dataset is suitable for fitting the machine learning models. However, before doing so, the price column has been removed from the features and coded as the target variable. "
   ]
  },
  {
   "cell_type": "code",
   "execution_count": 13,
   "id": "605e6b46",
   "metadata": {},
   "outputs": [],
   "source": [
    "X = df.drop(\"price\", axis=1)\n",
    "y = df[\"price\"]"
   ]
  },
  {
   "cell_type": "markdown",
   "id": "ac42586c",
   "metadata": {},
   "source": [
    "#### * Let's check if the encoding works..."
   ]
  },
  {
   "cell_type": "code",
   "execution_count": 14,
   "id": "491acba0",
   "metadata": {},
   "outputs": [
    {
     "name": "stdout",
     "output_type": "stream",
     "text": [
      "<class 'pandas.core.frame.DataFrame'>\n",
      "RangeIndex: 545 entries, 0 to 544\n",
      "Data columns (total 13 columns):\n",
      " #   Column            Non-Null Count  Dtype\n",
      "---  ------            --------------  -----\n",
      " 0   price             545 non-null    int64\n",
      " 1   area              545 non-null    int64\n",
      " 2   bedrooms          545 non-null    int64\n",
      " 3   bathrooms         545 non-null    int64\n",
      " 4   stories           545 non-null    int64\n",
      " 5   mainroad          545 non-null    int64\n",
      " 6   guestroom         545 non-null    int64\n",
      " 7   basement          545 non-null    int64\n",
      " 8   hotwaterheating   545 non-null    int64\n",
      " 9   airconditioning   545 non-null    int64\n",
      " 10  parking           545 non-null    int64\n",
      " 11  prefarea          545 non-null    int64\n",
      " 12  furnishingstatus  545 non-null    int64\n",
      "dtypes: int64(13)\n",
      "memory usage: 55.5 KB\n"
     ]
    }
   ],
   "source": [
    "df.info()"
   ]
  },
  {
   "cell_type": "code",
   "execution_count": 15,
   "id": "e19bc65c",
   "metadata": {},
   "outputs": [
    {
     "name": "stdout",
     "output_type": "stream",
     "text": [
      "     area  bedrooms  bathrooms  stories  mainroad  guestroom  basement  \\\n",
      "0    7420         4          2        3         1          0         0   \n",
      "1    8960         4          4        4         1          0         0   \n",
      "2    9960         3          2        2         1          0         1   \n",
      "3    7500         4          2        2         1          0         1   \n",
      "4    7420         4          1        2         1          1         1   \n",
      "..    ...       ...        ...      ...       ...        ...       ...   \n",
      "540  3000         2          1        1         1          0         1   \n",
      "541  2400         3          1        1         0          0         0   \n",
      "542  3620         2          1        1         1          0         0   \n",
      "543  2910         3          1        1         0          0         0   \n",
      "544  3850         3          1        2         1          0         0   \n",
      "\n",
      "     hotwaterheating  airconditioning  parking  prefarea  furnishingstatus  \n",
      "0                  0                1        2         1                 0  \n",
      "1                  0                1        3         0                 0  \n",
      "2                  0                0        2         1                 1  \n",
      "3                  0                1        3         1                 0  \n",
      "4                  0                1        2         0                 0  \n",
      "..               ...              ...      ...       ...               ...  \n",
      "540                0                0        2         0                 2  \n",
      "541                0                0        0         0                 1  \n",
      "542                0                0        0         0                 2  \n",
      "543                0                0        0         0                 0  \n",
      "544                0                0        0         0                 2  \n",
      "\n",
      "[545 rows x 12 columns] 0      13300000\n",
      "1      12250000\n",
      "2      12250000\n",
      "3      12215000\n",
      "4      11410000\n",
      "         ...   \n",
      "540     1820000\n",
      "541     1767150\n",
      "542     1750000\n",
      "543     1750000\n",
      "544     1750000\n",
      "Name: price, Length: 545, dtype: int64\n"
     ]
    }
   ],
   "source": [
    "print(X, y)"
   ]
  },
  {
   "cell_type": "markdown",
   "id": "71828c81",
   "metadata": {},
   "source": [
    "#### * Here some frequency graphs of the features. "
   ]
  },
  {
   "cell_type": "code",
   "execution_count": 16,
   "id": "dce8fd99",
   "metadata": {},
   "outputs": [
    {
     "ename": "NameError",
     "evalue": "name 'new_df' is not defined",
     "output_type": "error",
     "traceback": [
      "\u001b[1;31m---------------------------------------------------------------------------\u001b[0m",
      "\u001b[1;31mNameError\u001b[0m                                 Traceback (most recent call last)",
      "Cell \u001b[1;32mIn[16], line 1\u001b[0m\n\u001b[1;32m----> 1\u001b[0m new_df\u001b[38;5;241m.\u001b[39mhist(figsize \u001b[38;5;241m=\u001b[39m (\u001b[38;5;241m20\u001b[39m, \u001b[38;5;241m12\u001b[39m))\n\u001b[0;32m      2\u001b[0m plt\u001b[38;5;241m.\u001b[39mshow()\n",
      "\u001b[1;31mNameError\u001b[0m: name 'new_df' is not defined"
     ]
    }
   ],
   "source": [
    "new_df.hist(figsize = (20, 12))\n",
    "plt.show()"
   ]
  },
  {
   "cell_type": "code",
   "execution_count": null,
   "id": "a4bbb231",
   "metadata": {
    "scrolled": true
   },
   "outputs": [],
   "source": [
    "df.corr()"
   ]
  },
  {
   "cell_type": "markdown",
   "id": "856f6d81",
   "metadata": {},
   "source": [
    "#### * There are features such as area, number of bathrooms, and bedrooms, as well as the availability of air conditioning, which have a stronger correlation with the price compared to the furnishing status of the house and the installation of hot water heating in the property. The next heatmap is plotted to check the correlations for each column."
   ]
  },
  {
   "cell_type": "code",
   "execution_count": null,
   "id": "36b67d9f",
   "metadata": {},
   "outputs": [],
   "source": [
    "plt.figure(figsize=(20,12))\n",
    "sns.heatmap(df.corr(), annot=True, cmap=\"coolwarm\")"
   ]
  },
  {
   "cell_type": "code",
   "execution_count": null,
   "id": "c4bfbf1e",
   "metadata": {},
   "outputs": [],
   "source": [
    "X = df.drop(\"price\", axis=1)\n",
    "y = df[\"price\"]"
   ]
  },
  {
   "cell_type": "code",
   "execution_count": null,
   "id": "bd0abf4d",
   "metadata": {},
   "outputs": [],
   "source": [
    "print(y)"
   ]
  },
  {
   "cell_type": "markdown",
   "id": "f0fb45b1",
   "metadata": {},
   "source": [
    "## Preprocessing the data"
   ]
  },
  {
   "cell_type": "markdown",
   "id": "69b9ed91",
   "metadata": {},
   "source": [
    "## Splitting Data into Training and Testing"
   ]
  },
  {
   "cell_type": "code",
   "execution_count": null,
   "id": "5fac447a",
   "metadata": {},
   "outputs": [],
   "source": [
    "from sklearn.model_selection import train_test_split "
   ]
  },
  {
   "cell_type": "markdown",
   "id": "f8bf1f78",
   "metadata": {},
   "source": [
    "#### Splitting the data into training and testing sets is helpful to \"estimate the performance of the machine learning algorithms when they are used to make predictions on data not used to train the model\" (Brownlee, 2020). It is also important to mention that this technique can be used for both classification or regression problems, as well, as for any supervised learning algorithm. \n",
    "\n",
    "#### Keeping in mind that: \n",
    "\n",
    "#### The train dataset is used to fit the machine learning model ,and\n",
    "#### The Test dataset is employed to evaluate the model's performance,  \n",
    "\n",
    "#### The variation in the accuracy (in this case, r2, as it is a regression problem) across different machine learning models includes three training splits, as shown below: \n",
    "\n",
    "* Train: 80%, Test: 20%\n",
    "\n",
    "* Train: 75%, Test: 25%\n",
    "\n",
    "* Train: 70%, Test: 30%"
   ]
  },
  {
   "cell_type": "code",
   "execution_count": null,
   "id": "e041c530",
   "metadata": {},
   "outputs": [],
   "source": [
    "X_train, X_test, y_train, y_test = train_test_split(X, y, test_size = 0.20, random_state = 42)"
   ]
  },
  {
   "cell_type": "code",
   "execution_count": null,
   "id": "cfee126e",
   "metadata": {},
   "outputs": [],
   "source": [
    "X.shape, y.shape, X_train.shape, X_test.shape, y_train.shape, y_test.shape"
   ]
  },
  {
   "cell_type": "markdown",
   "id": "758c8f82",
   "metadata": {},
   "source": [
    "#### The test_size variable is \"where we actually specify the proportion of the test set\" (Chauhan,2019)."
   ]
  },
  {
   "cell_type": "markdown",
   "id": "d9ebd0ca",
   "metadata": {},
   "source": [
    "#### Before building a model, it is helpful to have an overview of the dataset to determine whether the dataset needs to be scaled or not. "
   ]
  },
  {
   "cell_type": "code",
   "execution_count": null,
   "id": "7ad5428c",
   "metadata": {},
   "outputs": [],
   "source": [
    "new_df.describe()"
   ]
  },
  {
   "cell_type": "markdown",
   "id": "72d7befd",
   "metadata": {},
   "source": [
    "#### It is concluded that it is necessary to scale the dataset to reduce bias impact in machine learning algorithms. Additionally, \"neglecting scaling can unevenly influence regression problem, favoring some variables unfairly and disadvantaging certain classes during model training\" (Cosgun, 2023). Although, the Robust Scaler helps decrease the impact of outliers in features like area, as part of this pre-processing, StandardScaler is applied, considering that the rest of the features seem to be on similar scales. However, there is no disagreement with (Cosgun, 2023) when it is stated that \"feature scaling relies on trial and error rather than a singular solution\". "
   ]
  },
  {
   "cell_type": "markdown",
   "id": "9d040ccc",
   "metadata": {},
   "source": [
    "## Scaling the data"
   ]
  },
  {
   "cell_type": "code",
   "execution_count": null,
   "id": "e5dd8006",
   "metadata": {},
   "outputs": [],
   "source": [
    "from sklearn.preprocessing import StandardScaler\n",
    "\n",
    "scaler=StandardScaler()\n",
    "\n",
    "X_train_scaled= scaler.fit_transform(X_train)\n",
    "X_test_scaled= scaler.transform(X_test)"
   ]
  },
  {
   "cell_type": "markdown",
   "id": "dc3b68de",
   "metadata": {},
   "source": [
    "## Machine learning approaches "
   ]
  },
  {
   "cell_type": "markdown",
   "id": "f9fe9475",
   "metadata": {},
   "source": [
    "### Random Forest"
   ]
  },
  {
   "cell_type": "code",
   "execution_count": null,
   "id": "43bf15a8",
   "metadata": {},
   "outputs": [],
   "source": [
    "from sklearn.ensemble import RandomForestRegressor\n",
    "from sklearn.metrics import mean_squared_error, r2_score, mean_absolute_error"
   ]
  },
  {
   "cell_type": "markdown",
   "id": "c16b5272",
   "metadata": {},
   "source": [
    "#### The first machine learning model to be applied is Random Forest: \n",
    "* Commonly, \"the feature importances given by this model are more reliable than the ones provided by a single tree.\n",
    "* Regularly, it works well without heavy tuning of the parameters\"(Muller and Guido,2017).\n",
    "* This model is flexible, versatile, and easy to use for capturing the pattern in the data. "
   ]
  },
  {
   "cell_type": "code",
   "execution_count": null,
   "id": "3f5f6671",
   "metadata": {},
   "outputs": [],
   "source": [
    "rf_model = RandomForestRegressor( max_features=\"sqrt\", max_depth=40, random_state=42).fit(X_train,y_train)\n",
    "y_pred = rf_model.predict(X_test)\n",
    "y_train_pred = rf_model.predict(X_train)"
   ]
  },
  {
   "cell_type": "code",
   "execution_count": null,
   "id": "02107186",
   "metadata": {},
   "outputs": [],
   "source": [
    "mse=mean_squared_error(y_train, y_train_pred)\n",
    "print(f'Mean Square Error_train: {mse}')\n",
    "\n",
    "mse=mean_squared_error(y_test, y_pred)\n",
    "print(f'Mean Square Error_test: {mse}')\n",
    "\n",
    "r2=r2_score(y_train, y_train_pred)\n",
    "print(f'R-squared_train: {r2}')\n",
    "\n",
    "r2=r2_score(y_test, y_pred)\n",
    "print(f'R-squared_test: {r2}')"
   ]
  },
  {
   "cell_type": "markdown",
   "id": "71b6d890",
   "metadata": {},
   "source": [
    "#### After calculating measures of performance on the training set and the testing set, considering the difference between the metrics of each of them, it is clear that there is overfitting because the model performs very well for training data but not with the testing data. "
   ]
  },
  {
   "cell_type": "code",
   "execution_count": null,
   "id": "67a21cb3",
   "metadata": {},
   "outputs": [],
   "source": [
    "predictions = rf_model.predict(X)\n",
    "print(f'Mean Squared Error:', metrics.mean_squared_error(y, predictions))\n",
    "print(f'R-squared:', metrics.r2_score(y, predictions))"
   ]
  },
  {
   "cell_type": "markdown",
   "id": "c9dab4d2",
   "metadata": {},
   "source": [
    "#### Regarding the performance of the model the accuracy, calculated using the R-squared is good. "
   ]
  },
  {
   "cell_type": "markdown",
   "id": "5bcf70b1",
   "metadata": {},
   "source": [
    "### Hyperparameter tuning techniques"
   ]
  },
  {
   "cell_type": "markdown",
   "id": "3cc7a770",
   "metadata": {},
   "source": [
    "#### It is known that every machine learning model, as a mathematical model, has several number of parameters. However, hyperparameters are another kind of parameters that are used to find the best performance of a model through a process called Hyperparameter tuning. In this project, and particularly for this model, two Hyperparameter tuning techniques are applied: \n",
    "\n",
    " * Random Hyperparameter Grid\n",
    " * Grid Search CV\n",
    " \n",
    "#### Considering the explanation given in scikit-learn, \"GridSearchCV exhaustively considers all parameter combinations, while RandomizedSearchCV can sample a given number of candidates from a parameter space with a specified distribution\" (scikit-learn). "
   ]
  },
  {
   "cell_type": "markdown",
   "id": "fb932f17",
   "metadata": {},
   "source": [
    "#### Random Hyperparameter Grid"
   ]
  },
  {
   "cell_type": "code",
   "execution_count": null,
   "id": "56db84a9",
   "metadata": {},
   "outputs": [],
   "source": [
    "from sklearn.model_selection import RandomizedSearchCV"
   ]
  },
  {
   "cell_type": "markdown",
   "id": "cd28fe2e",
   "metadata": {},
   "source": [
    "#### To use RandomizedSearchCV, the first step is to create a parameter grid to use it during fitting. In the case of a random forest, for instance, the number of decision trees is one hyperparameter. "
   ]
  },
  {
   "cell_type": "code",
   "execution_count": null,
   "id": "cd01415b",
   "metadata": {
    "scrolled": true
   },
   "outputs": [],
   "source": [
    "n_estimators = [int(x) for x in np.linspace(start = 50, stop= 600, num= 10)]\n",
    "max_features= ['auto', 'sqrt']\n",
    "max_depth = [int(x) for x in np.linspace (10, 200, num =11)]\n",
    "max_depth.append(None)\n",
    "min_samples_split= [2,5,8,10]\n",
    "min_samples_leaf = [1,2,4,6]\n",
    "bootstrap = [True, False]\n",
    "\n",
    "##### Source: https://towardsdatascience.com/hyperparameter-tuning-the-random-forest-in-python-using-scikit-learn-28d2aa77dd74\n",
    "\n",
    "param_grid = {'n_estimators': n_estimators, 'max_features': max_features, 'max_depth': max_depth, 'min_samples_split': min_samples_split, 'min_samples_leaf': min_samples_leaf, 'bootstrap':bootstrap}\n",
    "\n",
    "print(param_grid)\n",
    "\n",
    "rf = RandomForestRegressor()\n",
    "rf_random=RandomizedSearchCV (estimator= rf, param_distributions=param_grid, n_iter= 100, cv=10, verbose=2, random_state=42)\n",
    "\n",
    "rf_random.fit(X_train,y_train)"
   ]
  },
  {
   "cell_type": "code",
   "execution_count": null,
   "id": "fbea1324",
   "metadata": {},
   "outputs": [],
   "source": [
    "rf_random.best_params_"
   ]
  },
  {
   "cell_type": "markdown",
   "id": "021ca56d",
   "metadata": {},
   "source": [
    "#### Given the best parameters by the hyperparameter tuning process, they are applied in the algorithm again to perform the model. "
   ]
  },
  {
   "cell_type": "code",
   "execution_count": null,
   "id": "ecf493e1",
   "metadata": {},
   "outputs": [],
   "source": [
    "rf_random = RandomForestRegressor(n_estimators=477, min_samples_split=2, min_samples_leaf=1, max_features=\"sqrt\", max_depth=67, random_state=42, bootstrap=True)\n",
    "rf_random.fit(X_train,y_train)"
   ]
  },
  {
   "cell_type": "code",
   "execution_count": null,
   "id": "ec00a9d6",
   "metadata": {},
   "outputs": [],
   "source": [
    "predictions = rf_random.predict(X)\n",
    "print(f'Mean Squared Error:', metrics.mean_squared_error(y, predictions))\n",
    "print(f'R-squared:', metrics.r2_score(y, predictions))"
   ]
  },
  {
   "cell_type": "markdown",
   "id": "1827c21f",
   "metadata": {},
   "source": [
    "#### Actually, the r2 increased by a few decimal points, from 0.8517 to 0.8561. \n",
    "\n",
    "#### Let's move forward to try another technique- one that \"instead of sampling randomly from a distribution as RandomizedSearchCV does, evaluates all combinations we define\" (Koehrsen, 2018)."
   ]
  },
  {
   "cell_type": "markdown",
   "id": "7971d950",
   "metadata": {},
   "source": [
    "#### GridSearchCV"
   ]
  },
  {
   "cell_type": "markdown",
   "id": "290370c2",
   "metadata": {},
   "source": [
    "#### To use this technique, it is necessary to define an additional grid, as shown below. "
   ]
  },
  {
   "cell_type": "code",
   "execution_count": null,
   "id": "058bed2d",
   "metadata": {},
   "outputs": [],
   "source": [
    "from sklearn.model_selection import GridSearchCV\n",
    "\n",
    "n_estimators =[int(x) for x in np.linspace(start = 50, stop= 700, num= 10)]\n",
    "\n",
    "param_grid= {'bootstrap': [True], 'max_depth': [67], 'max_features': ['sqrt'], 'min_samples_leaf':[2], 'min_samples_split':[5], 'n_estimators': n_estimators}\n",
    "\n",
    "rf=RandomForestRegressor()\n",
    "\n",
    "rf_grid= GridSearchCV(estimator=rf, param_grid = param_grid, cv=10, verbose=2)\n",
    "\n",
    "rf_grid.fit(X_train,y_train)"
   ]
  },
  {
   "cell_type": "code",
   "execution_count": null,
   "id": "a14013e4",
   "metadata": {},
   "outputs": [],
   "source": [
    "rf_grid.best_params_"
   ]
  },
  {
   "cell_type": "markdown",
   "id": "174437fd",
   "metadata": {},
   "source": [
    "#### Given the best parameters by the hyperparameter tuning process, they are applied in the algorithm again to perform the model."
   ]
  },
  {
   "cell_type": "code",
   "execution_count": null,
   "id": "b4e39fcd",
   "metadata": {},
   "outputs": [],
   "source": [
    "rf_grid = RandomForestRegressor(n_estimators=627, max_features=\"sqrt\", max_depth=67, bootstrap= True, min_samples_leaf=2, min_samples_split=5, random_state=42)\n",
    "rf_grid.fit(X_train,y_train)"
   ]
  },
  {
   "cell_type": "code",
   "execution_count": null,
   "id": "8f4e2408",
   "metadata": {},
   "outputs": [],
   "source": [
    "predictions = rf_grid.predict(X)\n",
    "print(f'Mean Squared Error:', metrics.mean_squared_error(y, predictions))\n",
    "print(f'R-squared:', metrics.r2_score(y, predictions))"
   ]
  },
  {
   "cell_type": "markdown",
   "id": "04cea424",
   "metadata": {},
   "source": [
    "#### Using the GridSearchCV technique, the R2 performs even worse than with the first tecnique. However, to get a better estimate of the generalization performance, instead of applying the conventional split of the data into training and testing set, cross-validation can be used to evaluate the performance in each model (Muller and Guido,2017). "
   ]
  },
  {
   "cell_type": "markdown",
   "id": "16b7ab2c",
   "metadata": {},
   "source": [
    "### Cross validation on the model"
   ]
  },
  {
   "cell_type": "code",
   "execution_count": null,
   "id": "3aaac11f",
   "metadata": {},
   "outputs": [],
   "source": [
    "from sklearn.model_selection import cross_val_score\n",
    "\n",
    "models = [{\"model\": rf_model, \"name\": \"Base Model\"}, {\"model\": rf_random, \"name\": \"Random Model\"}, {\"model\": rf_grid, \"name\": \"Grid Model\"}]\n",
    "\n",
    "for model in models:\n",
    "    scores = cross_val_score(model[\"model\"], X_train,y_train, cv=5, scoring= 'r2')\n",
    "    print(\"Model:\", model [\"name\"])\n",
    "    print(\"R2 Scores:\", scores)\n",
    "    print(\"Mean R2 score:\", scores.mean())\n",
    "    print(\"Standard Deviation of R2 scores\", scores.std())\n",
    "    print(\"\\n\")\n",
    "    "
   ]
  },
  {
   "cell_type": "markdown",
   "id": "8c0a421c",
   "metadata": {},
   "source": [
    "#### Overall, R2 around 0.62 and 0.64 is not very good in the cross validation. "
   ]
  },
  {
   "cell_type": "markdown",
   "id": "9cc85939",
   "metadata": {},
   "source": [
    "#### SUPPORT VECTOR REGRESSION "
   ]
  },
  {
   "cell_type": "markdown",
   "id": "39af769d",
   "metadata": {},
   "source": [
    "#### Let's try another model to perform. This  model is chosen because it is robust to outliers and can manage non-linear data by introducing a kernel function. "
   ]
  },
  {
   "cell_type": "code",
   "execution_count": null,
   "id": "d4b8313e",
   "metadata": {},
   "outputs": [],
   "source": [
    "from sklearn.svm import SVR\n",
    "svr_model = SVR()\n",
    "svr_model.fit(X_train,y_train)"
   ]
  },
  {
   "cell_type": "code",
   "execution_count": null,
   "id": "8a9de9f1",
   "metadata": {},
   "outputs": [],
   "source": [
    "predictions = svr_model.predict(X)\n",
    "print(f'Mean Squared Error:', metrics.mean_squared_error(y, predictions))\n",
    "print(f'R-squared:', metrics.r2_score(y, predictions))"
   ]
  },
  {
   "cell_type": "markdown",
   "id": "0cb45515",
   "metadata": {},
   "source": [
    "#### Although, there are many reasons that might explain this result, in overall, R2 is negative as the model does not follow the trend of the data, considering as well that there is a case of overfitting in the model. "
   ]
  },
  {
   "cell_type": "markdown",
   "id": "1b33479c",
   "metadata": {},
   "source": [
    "### Hyperparameter tuning techniques"
   ]
  },
  {
   "cell_type": "markdown",
   "id": "29ce9162",
   "metadata": {},
   "source": [
    "#### To this model, the GridSearchCV is applied. "
   ]
  },
  {
   "cell_type": "code",
   "execution_count": null,
   "id": "fc5c7122",
   "metadata": {},
   "outputs": [],
   "source": [
    "param_grid = { 'C': [1,5,10], 'gamma': ['auto', 'scale']}\n",
    "\n",
    "model_svr = SVR()\n",
    "\n",
    "svr_grid= GridSearchCV(model_svr, param_grid, cv=5)\n",
    "\n",
    "svr_grid.fit(X_train, y_train)\n",
    "\n"
   ]
  },
  {
   "cell_type": "code",
   "execution_count": null,
   "id": "bca9e5e1",
   "metadata": {},
   "outputs": [],
   "source": [
    "svr_grid.best_params_"
   ]
  },
  {
   "cell_type": "markdown",
   "id": "f6d48713",
   "metadata": {},
   "source": [
    "#### Given the best parameters by the hyperparameter tuning process, they are applied in the algorithm again to perform the model. "
   ]
  },
  {
   "cell_type": "code",
   "execution_count": null,
   "id": "c1c02d35",
   "metadata": {},
   "outputs": [],
   "source": [
    "svr_model = SVR(C= 10, gamma = 'scale')"
   ]
  },
  {
   "cell_type": "code",
   "execution_count": null,
   "id": "1263f69b",
   "metadata": {},
   "outputs": [],
   "source": [
    "predictions = svr_grid.predict(X)\n",
    "print(f'Mean Squared Error:', metrics.mean_squared_error(y, predictions))\n",
    "print(f'R-squared:', metrics.r2_score(y, predictions))"
   ]
  },
  {
   "cell_type": "markdown",
   "id": "ca87c56c",
   "metadata": {},
   "source": [
    "#### After finding and using the best parameters, the R2 is less negative. Thus, although, it is clear that this model does not perform well, in practice, it can be seen the usefulness of applying these kind of techiques. "
   ]
  },
  {
   "cell_type": "markdown",
   "id": "b151692c",
   "metadata": {},
   "source": [
    "### Cross validation on the model "
   ]
  },
  {
   "cell_type": "code",
   "execution_count": null,
   "id": "985b8811",
   "metadata": {},
   "outputs": [],
   "source": [
    "models = [{\"model\": svr_model, \"name\": \"Base Model\"}, {\"model\": svr_grid, \"name\": \"Grid Model\"}]\n",
    "\n",
    "for model in models:\n",
    "    scores = cross_val_score(model[\"model\"], X_train,y_train, cv=20, scoring= 'r2')\n",
    "    print(\"Model:\", model [\"name\"])\n",
    "    print(\"R2 Scores:\", scores)\n",
    "    print(\"Mean R2 score:\", scores.mean())\n",
    "    print(\"Standard Deviation of R2 scores\", scores.std())\n",
    "    print(\"\\n\")"
   ]
  },
  {
   "cell_type": "markdown",
   "id": "26afe7cb",
   "metadata": {},
   "source": [
    "#### With negative mean R2 scores in the cross validation, it is determined that this model performed poorly."
   ]
  },
  {
   "cell_type": "markdown",
   "id": "f62bce25",
   "metadata": {},
   "source": [
    "### KNN"
   ]
  },
  {
   "cell_type": "markdown",
   "id": "96a000d1",
   "metadata": {},
   "source": [
    "#### Let's choose another model to perform, which is able to handle noisy data, makes predictions based on the comparability of data points in a dataset, is less sensitive to outliers, and requires few hyperparameters. "
   ]
  },
  {
   "cell_type": "code",
   "execution_count": null,
   "id": "a637f99d",
   "metadata": {},
   "outputs": [],
   "source": [
    "from sklearn.neighbors import KNeighborsRegressor\n",
    "\n",
    "knn_reg = KNeighborsRegressor(n_neighbors=2)\n",
    "knn_reg.fit(X_train, y_train)"
   ]
  },
  {
   "cell_type": "code",
   "execution_count": null,
   "id": "d79f46a6",
   "metadata": {},
   "outputs": [],
   "source": [
    "predictions = knn_reg.predict(X)\n",
    "print(f'Mean Squared Error:', metrics.mean_squared_error(y, predictions))\n",
    "print(f'R-squared:', metrics.r2_score(y, predictions))\n"
   ]
  },
  {
   "cell_type": "markdown",
   "id": "0db057eb",
   "metadata": {},
   "source": [
    "#### R2 of around 0.61 is not very well. "
   ]
  },
  {
   "cell_type": "code",
   "execution_count": null,
   "id": "02037352",
   "metadata": {},
   "outputs": [],
   "source": [
    "param_grid= {'n_neighbors': [1,2,3,4,5,6,7,8,9,10]}\n",
    "\n",
    "knn = KNeighborsRegressor()\n",
    "\n",
    "knn_grid= GridSearchCV(knn, param_grid, cv=5)\n",
    "\n",
    "knn_grid.fit(X_train, y_train)"
   ]
  },
  {
   "cell_type": "code",
   "execution_count": null,
   "id": "203b1e1a",
   "metadata": {},
   "outputs": [],
   "source": [
    "knn_grid.best_params_"
   ]
  },
  {
   "cell_type": "code",
   "execution_count": null,
   "id": "9c07a7ac",
   "metadata": {},
   "outputs": [],
   "source": [
    "best_knn= KNeighborsRegressor(n_neighbors=7)\n",
    "best_knn.fit(X_train, y_train)"
   ]
  },
  {
   "cell_type": "code",
   "execution_count": null,
   "id": "69f36e20",
   "metadata": {},
   "outputs": [],
   "source": [
    "predictions = knn_grid.predict(X)\n",
    "print(f'Mean Squared Error:', metrics.mean_squared_error(y, predictions))\n",
    "print(f'R-squared:', metrics.r2_score(y, predictions))"
   ]
  },
  {
   "cell_type": "markdown",
   "id": "833e5d5a",
   "metadata": {},
   "source": [
    "### Cross validation on the model"
   ]
  },
  {
   "cell_type": "code",
   "execution_count": null,
   "id": "89f81df0",
   "metadata": {},
   "outputs": [],
   "source": [
    "models = [{\"model\": knn_reg, \"name\": \"Base Model\"}, {\"model\": knn_grid, \"name\": \"Grid Model\"}]\n",
    "\n",
    "for model in models:\n",
    "    scores = cross_val_score(model[\"model\"], X_train,y_train, cv=5, scoring= 'r2')\n",
    "    print(\"Model:\", model [\"name\"])\n",
    "    print(\"R2 Scores:\", scores)\n",
    "    print(\"Mean R2 score:\", scores.mean())\n",
    "    print(\"Standard Deviation of R2 scores\", scores.std())\n",
    "    print(\"\\n\")\n",
    "    "
   ]
  },
  {
   "cell_type": "markdown",
   "id": "7b6496da",
   "metadata": {},
   "source": [
    "#### With lower mean R2 scores in the cross validation, it is determined that this model performed poorly."
   ]
  },
  {
   "cell_type": "markdown",
   "id": "ea6e0b8b",
   "metadata": {},
   "source": [
    "#### Following the results of the variation in the accuracy (R2) across three training splits using cross validation:\n",
    "\n",
    "    Split 1: 20%\n",
    "        *Random Forest:0.6428\n",
    "        *Support vector regression:-0.1104\n",
    "        *KNN: 0.3250\n",
    "            \n",
    "    Split 2: 25%\n",
    "        *Random Forest:0.6306\n",
    "        *Support vector regression:-0.1532\n",
    "        *KNN: \n",
    "            \n",
    "    Split 3: 30%\n",
    "        *Random Forest:0.6135\n",
    "        *Support vector regression:-0.1232\n",
    "        *KNN: 0.2939\n",
    "        "
   ]
  },
  {
   "cell_type": "markdown",
   "id": "c8aa93ff",
   "metadata": {},
   "source": [
    "### Conclusions\n",
    "\n",
    "* The dataset contains numerical and categorical variables, to predict the housing price. Before preprocessing, it was necessary to convert the categorical variables to numerical variables. \n",
    "* Splitting the data into training and testing sets is useful for evaluating the performance of a machine-learning algorithm using data which are not used to train the model to make predictions.\n",
    "* Scaling the data is a good practice in the pre-processing part as long as brings all the data points in the same scale, ensuring that no feature dominates/impacts the performance of the algorithm. \n",
    "* The Python module Scikit-Learn has default parameters and even hyperparameters for all the models, but this project has taught me that tuning a model is a trial-and-error process because the inputs (hyperparameters) do not guarantee that the model be optimal the first time, and that is why this technique is called tuning. \n",
    "* After calculating measures of performance on the training set and the testing set, considering the difference between the metrics of each of them, it is clear that there is overfitting because the model performs very well for training data but not with the testing data.\n",
    "* Hyperparameters are another kind of parameter that is used to find the best performance of a model through a process called Hyperparameter tuning. \n"
   ]
  },
  {
   "cell_type": "markdown",
   "id": "08e6b062",
   "metadata": {},
   "source": [
    "# References\n",
    "https://scikit-learn.org/stable/auto_examples/preprocessing/plot_all_scaling.html#plot-all-scaling-standard-scaler-section"
   ]
  },
  {
   "cell_type": "code",
   "execution_count": null,
   "id": "7bbdea7a",
   "metadata": {},
   "outputs": [],
   "source": [
    "https://www.geeksforgeeks.org/random-forest-regression-in-python/\n",
    "    \n",
    "    \n",
    "    \n",
    "    file:///C:/Users/mpaul/OneDrive/Desktop/Data%20Analytics%20for%20Business/Machine%20Learning/Materials/Introduction%20to%20Machine%20Learning%20with%20Python%20(%20PDFDrive.com%20)-min.pdf\n",
    "    \n",
    "    https://towardsdatascience.com/hyperparameter-tuning-the-random-forest-in-python-using-scikit-learn-28d2aa77dd74\n",
    "    \n",
    "    https://scikit-learn.org/stable/modules/grid_search.html\n",
    "    https://medium.com/@hhuseyincosgun/which-data-scaling-technique-should-i-use-a1615292061e#:~:text=RobustScaler%20is%20a%20data%20preprocessing,of%20outliers%20in%20the%20data.\n",
    "\n",
    "    https://machinelearningmastery.com/train-test-split-for-evaluating-machine-learning-algorithms/\n",
    "\n",
    "        \n",
    "        https://machinelearningmastery.com/train-test-split-for-evaluating-machine-learning-algorithms/\n",
    "            \n",
    "            \n",
    "            https://medium.com/@hhuseyincosgun/which-data-scaling-technique-should-i-use-a1615292061e#:~:text=RobustScaler%20is%20a%20data%20preprocessing,of%20outliers%20in%20the%20data.\n",
    "            \n",
    "            \n",
    "            https://www.kdnuggets.com/2019/03/beginners-guide-linear-regression-python-scikit-learn.html#:~:text=The%20test_size%20variable%20is%20where,proportion%20of%20the%20test%20set.&text=After%20splitting%20the%20data%20into,along%20with%20our%20training%20data."
   ]
  }
 ],
 "metadata": {
  "kernelspec": {
   "display_name": "Python 3 (ipykernel)",
   "language": "python",
   "name": "python3"
  },
  "language_info": {
   "codemirror_mode": {
    "name": "ipython",
    "version": 3
   },
   "file_extension": ".py",
   "mimetype": "text/x-python",
   "name": "python",
   "nbconvert_exporter": "python",
   "pygments_lexer": "ipython3",
   "version": "3.11.5"
  }
 },
 "nbformat": 4,
 "nbformat_minor": 5
}
